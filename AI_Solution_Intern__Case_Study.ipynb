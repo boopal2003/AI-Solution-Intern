{
  "nbformat": 4,
  "nbformat_minor": 0,
  "metadata": {
    "colab": {
      "provenance": []
    },
    "kernelspec": {
      "name": "python3",
      "display_name": "Python 3"
    },
    "language_info": {
      "name": "python"
    }
  },
  "cells": [
    {
      "cell_type": "code",
      "source": [
        "!pip install transformers torch sentencepiece"
      ],
      "metadata": {
        "colab": {
          "base_uri": "https://localhost:8080/"
        },
        "id": "Y6Nm_2YUUICn",
        "outputId": "7332b896-f354-4731-831d-0b03e8a32a1d"
      },
      "execution_count": 8,
      "outputs": [
        {
          "output_type": "stream",
          "name": "stdout",
          "text": [
            "Requirement already satisfied: transformers in /usr/local/lib/python3.10/dist-packages (4.47.1)\n",
            "Requirement already satisfied: torch in /usr/local/lib/python3.10/dist-packages (2.5.1+cu121)\n",
            "Requirement already satisfied: sentencepiece in /usr/local/lib/python3.10/dist-packages (0.2.0)\n",
            "Requirement already satisfied: filelock in /usr/local/lib/python3.10/dist-packages (from transformers) (3.16.1)\n",
            "Requirement already satisfied: huggingface-hub<1.0,>=0.24.0 in /usr/local/lib/python3.10/dist-packages (from transformers) (0.27.0)\n",
            "Requirement already satisfied: numpy>=1.17 in /usr/local/lib/python3.10/dist-packages (from transformers) (1.26.4)\n",
            "Requirement already satisfied: packaging>=20.0 in /usr/local/lib/python3.10/dist-packages (from transformers) (24.2)\n",
            "Requirement already satisfied: pyyaml>=5.1 in /usr/local/lib/python3.10/dist-packages (from transformers) (6.0.2)\n",
            "Requirement already satisfied: regex!=2019.12.17 in /usr/local/lib/python3.10/dist-packages (from transformers) (2024.11.6)\n",
            "Requirement already satisfied: requests in /usr/local/lib/python3.10/dist-packages (from transformers) (2.32.3)\n",
            "Requirement already satisfied: tokenizers<0.22,>=0.21 in /usr/local/lib/python3.10/dist-packages (from transformers) (0.21.0)\n",
            "Requirement already satisfied: safetensors>=0.4.1 in /usr/local/lib/python3.10/dist-packages (from transformers) (0.4.5)\n",
            "Requirement already satisfied: tqdm>=4.27 in /usr/local/lib/python3.10/dist-packages (from transformers) (4.67.1)\n",
            "Requirement already satisfied: typing-extensions>=4.8.0 in /usr/local/lib/python3.10/dist-packages (from torch) (4.12.2)\n",
            "Requirement already satisfied: networkx in /usr/local/lib/python3.10/dist-packages (from torch) (3.4.2)\n",
            "Requirement already satisfied: jinja2 in /usr/local/lib/python3.10/dist-packages (from torch) (3.1.4)\n",
            "Requirement already satisfied: fsspec in /usr/local/lib/python3.10/dist-packages (from torch) (2024.10.0)\n",
            "Requirement already satisfied: sympy==1.13.1 in /usr/local/lib/python3.10/dist-packages (from torch) (1.13.1)\n",
            "Requirement already satisfied: mpmath<1.4,>=1.1.0 in /usr/local/lib/python3.10/dist-packages (from sympy==1.13.1->torch) (1.3.0)\n",
            "Requirement already satisfied: MarkupSafe>=2.0 in /usr/local/lib/python3.10/dist-packages (from jinja2->torch) (3.0.2)\n",
            "Requirement already satisfied: charset-normalizer<4,>=2 in /usr/local/lib/python3.10/dist-packages (from requests->transformers) (3.4.0)\n",
            "Requirement already satisfied: idna<4,>=2.5 in /usr/local/lib/python3.10/dist-packages (from requests->transformers) (3.10)\n",
            "Requirement already satisfied: urllib3<3,>=1.21.1 in /usr/local/lib/python3.10/dist-packages (from requests->transformers) (2.2.3)\n",
            "Requirement already satisfied: certifi>=2017.4.17 in /usr/local/lib/python3.10/dist-packages (from requests->transformers) (2024.12.14)\n"
          ]
        }
      ]
    },
    {
      "cell_type": "code",
      "source": [
        "from transformers import pipeline\n",
        "import json\n",
        "import torch\n",
        "\n",
        "class LocalInvestmentReportGenerator:\n",
        "    def __init__(self):\n",
        "        self.generator = pipeline(\n",
        "            \"text-generation\",\n",
        "            model=\"facebook/opt-350m\",\n",
        "            device=0 if torch.cuda.is_available() else -1\n",
        "        )\n",
        "\n",
        "    def generate_structured_report(self, client_data):\n",
        "        report = f\"\"\"Investment Portfolio Summary Report\n",
        "\n",
        "1. CLIENT PROFILE\n",
        "Name: {client_data['profile']['name']}\n",
        "Investment Goal: {client_data['profile']['investment_goal']}\n",
        "Risk Tolerance: {client_data['profile']['risk_tolerance']}\n",
        "Time Horizon: {client_data['profile']['time_horizon']}\n",
        "\n",
        "2. PORTFOLIO PERFORMANCE\n",
        "Total Portfolio Value: ${client_data['portfolio_metrics']['total_value']:,}\n",
        "Year-to-Date Return: {client_data['portfolio_metrics']['ytd_return']}%\n",
        "\n",
        "3. ASSET ALLOCATION\n",
        "\"\"\"\n",
        "\n",
        "        allocation = client_data['portfolio_metrics']['asset_allocation']\n",
        "        for asset, percentage in allocation.items():\n",
        "            report += f\"\\n{asset.title()}: {percentage}%\"\n",
        "\n",
        "        risk_metrics = client_data['portfolio_metrics']['risk_metrics']\n",
        "        report += f\"\\n\\n4. RISK ANALYSIS\\n\"\n",
        "        report += f\"\\nSharpe Ratio: {risk_metrics['sharpe_ratio']}\"\n",
        "        report += f\"\\nVolatility: {risk_metrics['volatility']}%\"\n",
        "        report += f\"\\nMaximum Drawdown: {risk_metrics['max_drawdown']}%\"\n",
        "        benchmark = client_data['portfolio_metrics']['benchmark_comparison']\n",
        "        report += f\"\\n\\n5. BENCHMARK COMPARISON\\n\"\n",
        "        report += f\"\\nS&P 500 Return: {benchmark['sp500_return']}%\"\n",
        "        report += f\"\\nRelative Performance: {benchmark['relative_performance']}%\"\n",
        "        report += \"\\n\\n6. RECOMMENDATIONS\\n\"\n",
        "        recommendations = self.generate_recommendations(client_data)\n",
        "        report += f\"\\n{recommendations}\"\n",
        "        report += \"\\n\\nDISCLAIMER\\n\\n\"\n",
        "        report += \"Past performance does not guarantee future results. \"\n",
        "        report += \"This report is for informational purposes only.\"\n",
        "\n",
        "        return report\n",
        "\n",
        "    def generate_recommendations(self, client_data):\n",
        "        \"\"\"Generate personalized recommendations based on client profile and performance\"\"\"\n",
        "        profile = client_data['profile']\n",
        "        metrics = client_data['portfolio_metrics']\n",
        "\n",
        "        recommendations = []\n",
        "\n",
        "        if profile['risk_tolerance'] == 'moderate' and metrics['asset_allocation']['stocks'] > 70:\n",
        "            recommendations.append(\"Consider reducing equity exposure to better align with your moderate risk tolerance.\")\n",
        "\n",
        "        elif profile['risk_tolerance'] == 'aggressive' and metrics['asset_allocation']['stocks'] < 70:\n",
        "            recommendations.append(\"Given your aggressive risk tolerance, consider increasing equity exposure for potentially higher returns.\")\n",
        "\n",
        "        if metrics['benchmark_comparison']['relative_performance'] < -2:\n",
        "            recommendations.append(\"Portfolio is underperforming the benchmark. Review asset allocation and consider rebalancing.\")\n",
        "\n",
        "        if metrics['asset_allocation']['cash'] > 10:\n",
        "            recommendations.append(\"High cash position may be a drag on returns. Consider deploying capital based on your investment strategy.\")\n",
        "\n",
        "        if profile['investment_goal'] == 'retirement' and profile['time_horizon'] == 'long_term':\n",
        "            recommendations.append(\"Maintain current bond allocation for stability while keeping sufficient equity exposure for long-term growth.\")\n",
        "\n",
        "        if not recommendations:\n",
        "            recommendations.append(\"Portfolio is well-aligned with your investment objectives. Continue regular monitoring and rebalancing as needed.\")\n",
        "\n",
        "        return \"\\n\".join(f\" {rec}\" for rec in recommendations)\n",
        "\n",
        "def main():\n",
        "    try:\n",
        "        with open('sample2.json') as file:\n",
        "            data = json.load(file)\n",
        "\n",
        "        generator = LocalInvestmentReportGenerator()\n",
        "\n",
        "        for client in data['clients']:\n",
        "            print(f\"\\nGenerating report for {client['profile']['name']}...\")\n",
        "            report = generator.generate_structured_report(client)\n",
        "            print(report)\n",
        "            print(\"\\n\" + \"=\"*80 + \"\\n\")\n",
        "\n",
        "    except Exception as e:\n",
        "        print(f\"An error occurred: {str(e)}\")\n",
        "\n",
        "if __name__ == \"__main__\":\n",
        "    main()"
      ],
      "metadata": {
        "colab": {
          "base_uri": "https://localhost:8080/"
        },
        "id": "3_XgMO5ZYQzf",
        "outputId": "82708378-daeb-4a78-8a06-ec54ccc7ef60"
      },
      "execution_count": 23,
      "outputs": [
        {
          "output_type": "stream",
          "name": "stderr",
          "text": [
            "Device set to use cpu\n"
          ]
        },
        {
          "output_type": "stream",
          "name": "stdout",
          "text": [
            "\n",
            "Generating report for Pranav Raj...\n",
            "Investment Portfolio Summary Report\n",
            "\n",
            "1. CLIENT PROFILE\n",
            "Name: Pranav Raj\n",
            "Investment Goal: retirement\n",
            "Risk Tolerance: moderate\n",
            "Time Horizon: long_term\n",
            "\n",
            "2. PORTFOLIO PERFORMANCE\n",
            "Total Portfolio Value: $500,000\n",
            "Year-to-Date Return: 8.5%\n",
            "\n",
            "3. ASSET ALLOCATION\n",
            "\n",
            "Stocks: 60%\n",
            "Bonds: 30%\n",
            "Cash: 5%\n",
            "Alternatives: 5%\n",
            "\n",
            "4. RISK ANALYSIS\n",
            "\n",
            "Sharpe Ratio: 1.2\n",
            "Volatility: 12.5%\n",
            "Maximum Drawdown: -15.3%\n",
            "\n",
            "5. BENCHMARK COMPARISON\n",
            "\n",
            "S&P 500 Return: 9.2%\n",
            "Relative Performance: -0.7%\n",
            "\n",
            "6. RECOMMENDATIONS\n",
            "\n",
            " Maintain current bond allocation for stability while keeping sufficient equity exposure for long-term growth.\n",
            "\n",
            "DISCLAIMER\n",
            "\n",
            "Past performance does not guarantee future results. This report is for informational purposes only.\n",
            "\n",
            "================================================================================\n",
            "\n"
          ]
        }
      ]
    },
    {
      "cell_type": "code",
      "source": [],
      "metadata": {
        "id": "G_qo0M7jYRbh"
      },
      "execution_count": null,
      "outputs": []
    }
  ]
}